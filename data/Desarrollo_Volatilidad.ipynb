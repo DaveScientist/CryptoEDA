{
 "cells": [
  {
   "cell_type": "markdown",
   "metadata": {},
   "source": [
    "### Principales factores de volatilidad ###\n",
    "## Noticias: ##\n",
    " Debido a que Bitcoin sigue siendo un concepto relativamente nuevo, lo que la gente lee en las noticias puede tener un efecto significativo en el precio. Estamos hablando de eventos geopolíticos, declaraciones del gobierno sobre regulaciones e incluso rumores difundidos a través de las redes sociales. Los incidentes que causan un gran pánico en el público e infunden temor en la estabilidad de la criptomoneda pueden reducir su valor rápidamente.\n",
    "\n",
    "\n",
    "## Valor percibido vs moneda fiduciaria: ## \n",
    " Bitcoin tiene propiedades similares al oro; por ejemplo, ambos necesitan ser “minados” y ambos están disponibles en cantidades limitadas. Bitcoin se rige por una decisión de diseño para limitar su producción a una cantidad fija (21 millones de BTC). Esto es un contraste con las monedas fiduciarias, que son administrados por el gobierno y que tiene varios factores a considerar (mantener un alto nivel de empleo, baja inflación, etc.) Por lo tanto, como las monedas fiduciarias muestran signos de fortaleza o debilidad, esto puede influir en la forma en que las personas eligen invertir sus respectivos activos.\n",
    "\n",
    "\n",
    "## Forks: ##\n",
    " Estos se presentan cuando existen diferencias entre los desarrolladores, lo que da como resultado versiones incompatibles del software que se producen al mismo tiempo lo cual genera confusión sobre el estado de la cadena de bloques. En consecuencia, la volatilidad aumenta a medida que los operadores intentan predecir lo que sucederá y proceden a operar adecuadamente.\n",
    "\n",
    "\n",
    "## Ballenas: ##\n",
    " Algunas personas o entidades que poseen una gran cantidad de Bitcoin. Cuando hacen grandes pedidos al contado en los exchanges, estos movimientos pueden afectar a todo el mercado.\n",
    "\n",
    "\n",
    "## Liquidez: ##\n",
    " O la capacidad de un activo para convertirse en otra moneda o efectivo. Otra forma de ver esto es preguntando con qué facilidad se puede vender o comprar el activo a su precio justo. Para tener una alta liquidez, debe haber suficientes compradores y vendedores listos en el mercado. Si se propone un gran intercambio, pero no hay muchos traders, el precio puede cambiar significativamente para completar el trato.\n",
    "\n",
    "\n",
    "## Tamaño del mercado: ## \n",
    " El precio de Bitcoin fluctúa con la oferta y la demanda, al igual que cualquier otro activo negociado en el mercado. La gente compra y vende a los precios con los que se sienten cómodos negociando. Si por una razón u otra, hay más presión de compra y la gente compra más bitcoins, los precios aumentarán. Por el contrario, si hay más presión de venta y la gente vende sus bitcoins por monedas fiduciarias, los precios caerán. En comparación con el resto del mundo de los activos, Bitcoin sigue siendo pequeño, y esto significa que todos los demás factores que afectan la volatilidad se amplifican."
   ]
  }
 ],
 "metadata": {
  "language_info": {
   "name": "python"
  },
  "orig_nbformat": 4
 },
 "nbformat": 4,
 "nbformat_minor": 2
}
