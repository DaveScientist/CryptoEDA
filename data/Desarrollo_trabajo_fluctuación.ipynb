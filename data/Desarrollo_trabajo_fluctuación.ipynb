{
 "cells": [
  {
   "cell_type": "markdown",
   "metadata": {},
   "source": [
    "¿Cómo fluctúa el valor de una criptomoneda?\n",
    "Economía 3\n",
    ">\n",
    "\n",
    "Economía\n",
    ">\n",
    "\n",
    "Criptomonedas\n",
    "Para poder determinar cómo fluctúa el valor de una criptomoneda debemos tener muy claro lo que realmente es. La criptomoneda es una moneda digital sin forma física. Esta moneda digital se puede producir de forma privada en una computadora de tecnología avanzada a través de un sistema conocido como Blockchain.  Es decir, cualquiera puede producir su propia criptomoneda. Eso sí, siempre y cuando cuente con el conocimiento, los fondos necesarios y todo lo que se requiere para el proceso de producción.\n",
    "\n",
    "Es así, que la producción de monedas digitales está al alcance de la mayoría de forma independiente y anónima. Esto hace que se mantengan fuera del alcance y control por parte de algún ente gubernamental o bancario. Tampoco existen normas legales establecidas que las regulen, lo que les permite un libre movimiento en sus cotizaciones y fluctuación de precios. Además de constituir un alto riesgo de posibles fraudes, ya que no cuenta con ningún tipo de garantía ni protección legal.\n",
    "\n",
    "El valor de una criptomoneda puede cambiar a un ritmo mucho más rápido que las tasas de las monedas tradicionales. Las criptomonedas a menudo se cotizan en relación con el dólar, pero es posible cotizarlas en cualquiera de las monedas tradicionales o directamente entre sí. La valoración y la capitalización de mercado generalmente se dan en un día específico. Esto es debido a que la manera como fluctúa el valor de una criptomoneda es muy diferente al mercado de divisas tradicional.\n",
    "\n",
    "\n",
    "\n",
    "¿Cómo funciona el mercado de criptomonedas?\n",
    "Las criptomonedas son en esencia como las monedas tradicionales, se basan principalmente en la confianza de las personas. Sus tarifas dependen completamente de la oferta y la demanda. Sin embargo, también hay varias otras condiciones que afectan indirectamente los precios de las monedas virtuales. Por eso lo recomendable es que las inversiones en criptomonedas sean realizadas por personas que sigan las cotizaciones de forma continua. De esta manera podrán reaccionar rápidamente ante cualquier fluctuación del tipo de cambio.\n",
    "\n",
    "Todas las criptomonedas o monedas digitales operan en sistemas específicos y los cambios en los estándares de estos sistemas pueden afectar su valoración. Es decir, la información que un país o una institución pueda reconocer y utilizar para determinada criptomoneda, o la tecnología en que esta se base, puede llegar a tener un impacto en la valoración que de esta se haga. Este tipo de variaciones pueden llegar a provocar grandes fluctuaciones de valor, incrementando el riesgo de invertir en criptomonedas.\n",
    "\n",
    "\n",
    "A pesar de esto, las criptomonedas se consideran un ingreso fácil y una inversión alternativa probada. Pero, no podemos olvidar, que estas inversiones conllevan un riesgo como cualquier otra. El mercado es prometedor y muy dinámico, lo que implica grandes y constantes variaciones de precios. Precios que por su naturaleza descentralizada, dependen del movimiento y la cantidad de cotizaciones que se generen en las diferentes bolsas y casas de cambio. Lo interesante es que no existe ningún ente, gubernamental o bancario, regulador de esta bolsa.\n",
    "\n",
    "¿Qué determina la variación en las cotizaciones?\n",
    "En principio debemos recordar que el valor de las criptomonedas está intrínsecamente ligado al razonamiento de las personas y la apreciación de estas sobre la moneda digital en cuestión. Esto aunado a la influencia ejercida por los diferentes factores como la oferta y la demanda, que se pueden ver afectadas por el alta y constante exposición de las criptomonedas en los diferentes medios, influyen de forma determinante en cómo fluctúa el valor de una criptomoneda en los distintos mercados de activos digitales.\n",
    "\n",
    "La moneda digital en principio fue creada con el fin de permitir realizar transacciones más rápidas con procedimientos simplificados. Siempre de forma anónima, con mayor flexibilidad y reduciendo los costos por operación. Sin embargo, dada la descentralización y su poca sensibilidad a los factores macroeconómicos que afectan a las monedas tradicionales, las criptomonedas se han convertido en un modelo de inversión alternativa. Un modelo muy atractivo para los inversores que buscan colocar algo de dinero, acciones o bonos en el mercado de monedas digitales.\n",
    "\n",
    "criptomoneda-fluctuación\n",
    "\n",
    "Esto permite que cuando crece la incertidumbre en la solidez de la economía y la salida de capital en el mercado global, se incremente la demanda por parte de los inversores que quieren adquirir criptoactivos. Lo que influye directamente en el incremento de la valoración de estos activos digitales. Esta situación trae como consecuencia que las criptomonedas sean cada vez más populares y por ende más demandadas entre los inversores, lo que eleva sus tasas de cotización, batiendo nuevos récords de facturación cada día.\n",
    "\n",
    "¿Qué ocasiona su descenso?\n",
    "Como ya hemos visto los precios de las criptomonedas en el mercado van a depender en gran medida de la percepción que de ellas tenga el público. Lo que genera variaciones importantes en los niveles de oferta y demanda de los criptoactivos, y va de la mano con los niveles de cotización y variación de su precio. Dicho de otra manera, mientras más gente esté interesada y quiera comprar una moneda determinada, mayor será su precio.\n",
    "\n",
    "\n",
    "Sin embargo, esto puede cambiar rápidamente, ya que las noticias influyen en la opinión pública. Hay constancia de que ya ha sucedido en varias oportunidades que mensajes falsos emitidos en las redes sociales, o simplemente comentarios de algunos personajes líderes en la economía mundial han provocado una caída notable en el valor de algunas criptomonedas. Este tipo de acciones deliberadas o no han contribuido a generar grandes pérdidas financieras a los inversores que tienen su capital invertido en monedas digitales.\n",
    "\n",
    "Además, los precios de estas monedas digitales están influenciados por los precios de sus pares, y las principales monedas de la economía mundial. Es decir, que su valoración no depende solamente del sentimiento generado en las personas, las tasas de rendimiento histórico o la exagerada exposición en los medios. Aunque en menor medida también influye el valor de algunas monedas fiduciarias o incluso de sus pares digitales. Como, por ejemplo, el Bitcoin para su valoración.\n",
    "\n",
    "¿Cuáles son los riesgos asociados a las fluctuaciones?\n",
    "Como ya hemos visto el mercado de las criptomonedas es un mercado muy volátil sujeto a sufrir las fluctuaciones libres del mercado. Estas situaciones conllevan una serie de riesgos que afectan de una forma determinante el valor de estos activos digitales y por consiguiente la seguridad de la inversión misma. Todo esto ocurre debido a la ausencia de un ente oficial gubernamental o bancario que se ocupe de regular su funcionamiento, uso y operación en las diferentes bolsas de intercambio.\n",
    "\n",
    "Esta llamada descentralización ha permitido la creación de una especie de mercado negro dentro de la estructura del mercado de criptomonedas. Situación que impide que se pueda estandarizar o definir de alguna manera cuál es el valor real de las diferentes monedas digitales con respecto a las monedas tradicionales y/o algún tipo cambiario que se pudiera utilizar como base. Toda esta situación deja expuestos a los inversores a correr riesgos de pérdidas financieras difíciles de afrontar.\n",
    "\n",
    "Además, en un mercado tan volátil como el de las monedas digitales se hace muy difícil lograr prevenir cómo fluctúa el valor de una criptomoneda. Quien invierte en este tipo de activos digitales debe tener muy claro que esta forma de inversión representa un riesgo al capital. Pues, así como puede haber un incremento en su valor en un momento dado, también puede devenir un desplome inesperado y acabar con las esperanzas de capitalización de ahorro de los inversores."
   ]
  }
 ],
 "metadata": {
  "language_info": {
   "name": "python"
  },
  "orig_nbformat": 4
 },
 "nbformat": 4,
 "nbformat_minor": 2
}
