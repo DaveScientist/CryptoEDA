{
 "cells": [
  {
   "cell_type": "markdown",
   "metadata": {},
   "source": [
    "#### ¿Qué son las medias móviles?"
   ]
  },
  {
   "cell_type": "markdown",
   "metadata": {},
   "source": [
    "¿Qué es una media móvil?\n",
    "Una media móvil es un indicador técnico que combina precios de un activo a lo largo de un período de tiempo establecido, y los divide entre el número de datos recogidos para dar una línea de tendencia. Es popular entre los inversores porque puede ayudar a determinar la dirección de una tendencia actual y reducir el impacto de subidas de precio repentinas.\n",
    "\n",
    "Analizando movimientos previos en el precio de un activo, una media móvil te permitirá examinar tus niveles de soporte y resistencia. Es una medida de cambio que rastrea el precio anterior de un activo y evalúa el historial de los movimientos de mercado para calcular posibles patrones futuros. Una media móvil es principalmente un indicador rezagado, lo que la convierte en una de las herramientas más populares de análisis técnico.\n",
    "\n",
    "Esto se debe a que calcular una media móvil (MM) requiere una cantidad determinada de datos, que depende del período para el que se calcule la media. Para calcular una media móvil de diez días, se necesitarán los datos de diez días y, para calcular la de un año, se necesitarán los datos de 365 días. Uno de los plazos más habituales para calcular una media móvil es el de 200 días.\n",
    "\n",
    "Este indicador se denomina ‘móvil’ porque conforme se van introduciendo datos más recientes en la gráfica, éstos remplazan a los más antiguos."
   ]
  }
 ],
 "metadata": {
  "language_info": {
   "name": "python"
  },
  "orig_nbformat": 4
 },
 "nbformat": 4,
 "nbformat_minor": 2
}
