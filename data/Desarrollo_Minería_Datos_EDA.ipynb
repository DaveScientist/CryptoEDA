{
 "cells": [
  {
   "cell_type": "markdown",
   "metadata": {},
   "source": [
    "### ¿Qué es la minería de criptomonedas?\n",
    "La minería de criptomonedas es el proceso en el que los mineros utilizan la potencia informática (hash), para procesar transacciones y obtener recompensas, en este caso criptomonedas. Dicho de otra forma, es el proceso de agregar nuevos registros de transacciones como bloques a la cadena de bloques. O también, que es el proceso de registrar transacciones de blockchain, a cambio de una recompensa, entregada en el mismo tipo de criptomoneda que se está minando. Por ejemplo, si se mina Bitcoin la recompensa es en BTC.\n",
    "\n",
    "Una de las principales características de la minería es la concentración de recursos. Es decir, que requiere de una gran cantidad de potencia informática que pueda cumplir con las exigencias de minería. Además de permitir que todos los participantes de la red minera se pongan de acuerdo sobre la eficacia y precisión de la cadena de bloques. Además, no solo se debe contar con una gran máquina de minería de potencia informática, también se debe garantizar una red de energía eléctrica estable.\n",
    "\n",
    "La minería requiere un software específico para la resolución de problemas matemáticos, y la verificación de la transacción legal que confirma que un bloque es un bloque. Estos bloques se van agregando al libro mayor público (blockchain) aproximadamente cada 10 minutos. Cuando el software resuelve la transacción, el minero recibirá una cierta cantidad de monedas digitales. Cuanto más rápido el hardware del minero pueda procesar estos problemas matemáticos, más probable es que verifique las transacciones y reciba sus recompensas."
   ]
  },
  {
   "cell_type": "markdown",
   "metadata": {},
   "source": [
    "### ¿Qué se necesita para minar criptomonedas?\n",
    "Para extraer una determinada criptomoneda, se necesita un hardware adecuado para extraer esa moneda. Dependiendo de la moneda, es posible que necesite un minero ASIC (una computadora dedicada a extraer una determinada moneda) o una computadora con una GPU (tarjeta gráfica) de alto rendimiento. Incluso, en algunos casos, también puede usar una CPU (procesador central). Es posible que se requiera un hardware diferente para cada tipo de moneda que se quiera extraer. Con el uso del hardware inadecuado solo se conseguirá perder dinero.\n",
    "\n",
    "Los mineros basados ​​en GPU pueden extraer efectivamente todo tipo de monedas siempre que se puedan extraer con tarjetas gráficas, pero esta regla no se aplica a los mineros ASIC. Por ejemplo, las máquinas de minería ASIC que extraen Bitcoin (algoritmo SHA256) no se pueden usar para extraer monedas Zcash (algoritmo Equihash). Esto se debe a que las dos monedas usan algoritmos diferentes. Los mineros que extraen la moneda del algoritmo SHA-256 no son buenos para extraer otros algoritmos. Esto es importante tenerlo en cuenta.\n",
    "\n",
    "Así que lo más recomendable es asegurarse de contar con una máquina de minería que sea adecuada para extraer las monedas que se desean minar. También se necesita una conexión de red estable que se mantenga en funcionamiento. La estabilidad es la clave, no la velocidad. Adicionalmente, se requiere una fuente de alimentación eléctrica estable y de bajo costo. Ya que los precios de la electricidad afectan en gran medida las ganancias, por lo que es necesario encontrar la electricidad más barata.\n",
    "\n",
    "Proceso de minado y recompensas de las criptomonedas\n",
    "En el proceso de minado de criptomonedas el hardware se coloca al servicio de una red de criptoactivos como Bitcoin, Ethereum, o cualquier otro tipo de criptomoneda. Este hardware lo que hace es proporcionar su potencia para confirmar que las transacciones realizadas en la red por sus usuarios son válidas. Una vez hecha la validación de estas transacciones son agrupadas en bloques. Estos bloques posteriormente se añaden a la cadena de bloques o blockchain. Básicamente este es el proceso de minado de criptomonedas.\n",
    "\n",
    "La recompensa se genera cada vez que se agrega un nuevo bloque a la cadena. Esta recompensa se conforma de dos partes: Las comisiones que pagan los usuarios participantes de las transacciones que conforman el nuevo bloque añadido y las nuevas monedas digitales puestas en circulación. De allí que resulta tan atractivo para los mineros realizar grandes inversiones en máquinas y sistemas con el fin de minar criptomonedas. Actualmente cada minero de Bitcoin recibe 6.25 BTC por cada bloque completado.\n",
    "\n",
    "En resumen, el proceso de minado de criptomonedas como Bitcoin, Ethereum y otras, consiste en validar y agrupar las transacciones, hechas por los usuarios dentro de la red determinada, en bloques que posteriormente serán unidos a la cadena de bloques conocida como Blockchain. Este proceso además de generar una nueva cantidad de monedas digitales que serán otorgadas al minero, junto con las comisiones pagadas por quienes realizan las transacciones que componen el bloque adicionado, también brindan seguridad a la red."
   ]
  }
 ],
 "metadata": {
  "language_info": {
   "name": "python"
  },
  "orig_nbformat": 4
 },
 "nbformat": 4,
 "nbformat_minor": 2
}
